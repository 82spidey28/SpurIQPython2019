{
 "cells": [
  {
   "cell_type": "markdown",
   "metadata": {},
   "source": [
    "![](https://i0.wp.com/spuriq.com/wp-content/uploads/2019/03/spuriq_site_logo_tagline.png?zoom=2&fit=150%2C69&ssl=1)"
   ]
  },
  {
   "cell_type": "markdown",
   "metadata": {},
   "source": [
    "# Exercise and Warm-Up Solutions"
   ]
  },
  {
   "cell_type": "markdown",
   "metadata": {},
   "source": [
    "## Conditionals Exercise"
   ]
  },
  {
   "cell_type": "markdown",
   "metadata": {},
   "source": [
    "Given a=100 and b=50, write an IF statement that prints “I’ve mastered decision making” if a is greater than b."
   ]
  },
  {
   "cell_type": "code",
   "execution_count": 3,
   "metadata": {},
   "outputs": [
    {
     "name": "stdout",
     "output_type": "stream",
     "text": [
      "I've mastered decision making.\n"
     ]
    }
   ],
   "source": [
    "a = 100\n",
    "b = 50\n",
    "if a > b:\n",
    "    print(\"I've mastered decision making.\")"
   ]
  },
  {
   "cell_type": "markdown",
   "metadata": {},
   "source": [
    "## Food Datasets Warm-Up"
   ]
  },
  {
   "cell_type": "markdown",
   "metadata": {},
   "source": [
    "Create a new notebook, called ‘Favorite Foods’.\n",
    "\n",
    "Create a list, tuple, set, and dictionary of some of your favorite food items.\n",
    "\n",
    "Print each of these datasets.\n",
    "\n",
    "What if we wanted to print out each of these items individually?"
   ]
  },
  {
   "cell_type": "markdown",
   "metadata": {},
   "source": [
    "## While Loops Exercise"
   ]
  },
  {
   "cell_type": "markdown",
   "metadata": {},
   "source": [
    "Let y = -5. Print y as long as y is less than 10. However, do not print y when y is 0."
   ]
  },
  {
   "cell_type": "code",
   "execution_count": 8,
   "metadata": {},
   "outputs": [
    {
     "name": "stdout",
     "output_type": "stream",
     "text": [
      "-5\n",
      "-4\n",
      "-3\n",
      "-2\n",
      "-1\n",
      "1\n",
      "2\n",
      "3\n",
      "4\n",
      "5\n",
      "6\n",
      "7\n",
      "8\n",
      "9\n",
      "10\n"
     ]
    }
   ],
   "source": [
    "y = -6\n",
    "while y < 10:\n",
    "    y += 1\n",
    "    if y == 0:\n",
    "        continue\n",
    "    print(y)"
   ]
  },
  {
   "cell_type": "markdown",
   "metadata": {},
   "source": [
    "## Functions Warm-Up"
   ]
  },
  {
   "cell_type": "markdown",
   "metadata": {},
   "source": [
    "Create a function called sumList(myList) that takes the single parameter, myList.\n",
    "\n",
    "Let myList be a list of integers.\n",
    "\n",
    "Use a for loop to add up all of the values in myList.\n",
    "\n",
    "Use a return statement to return the sum of all of the values.\n",
    "\n",
    "Use a print statement to print the result of your function.\n",
    "\n",
    "Test your function using a few different lists!"
   ]
  },
  {
   "cell_type": "code",
   "execution_count": 10,
   "metadata": {},
   "outputs": [
    {
     "name": "stdout",
     "output_type": "stream",
     "text": [
      "15\n",
      "35\n"
     ]
    }
   ],
   "source": [
    "def sumList(myList):\n",
    "    listSum = 0\n",
    "    for item in myList:\n",
    "        listSum += item\n",
    "    return listSum\n",
    "list1 = [1,2,3,4,5]\n",
    "print(sumList(list1))\n",
    "list2 = [5,6,7,8,9]\n",
    "print(sumList(list2))"
   ]
  },
  {
   "cell_type": "markdown",
   "metadata": {},
   "source": [
    "## SQL Exercise"
   ]
  },
  {
   "cell_type": "markdown",
   "metadata": {},
   "source": [
    "Create four functions, createTable(), fillTable(), viewTable(), and deleteTable().\n",
    "\n",
    "Let createTable() create a new SQL table called \"FavFoods\" in “mydatabase.db” with three columns:\n",
    "* “id INTEGER PRIMARY KEY”\n",
    "* “food VARCHAR(255)”\n",
    "* “foodType VARCHAR(255)”\n",
    "\n",
    "Let fillTable() insert at least 5 rows of data, with your favorite foods and what types of foods they are (e.g. cereal is breakfast, cake is dessert, a burrito is Mexican food, chips are a snack food).\n",
    "\n",
    "Let viewTable() select all of the data from your table and order it by food name.\n",
    "\n",
    "Let deleteTable() delete the table that you created.\n",
    "\n",
    "Raise your hand and show me each function before you move on to creating the next!"
   ]
  },
  {
   "cell_type": "code",
   "execution_count": 7,
   "metadata": {},
   "outputs": [],
   "source": [
    "import sqlite3\n",
    "\n",
    "def createTable():\n",
    "    mydb = sqlite3.connect(\"mydatabase.db\")\n",
    "    mycursor = mydb.cursor()\n",
    "    mycursor.execute(\"CREATE TABLE FavFoods (id INTEGER PRIMARY KEY, food VARCHAR(255), foodType VARCHAR(255))\")\n",
    "    mydb.close()\n",
    "    \n",
    "def fillTable():\n",
    "    mydb = sqlite3.connect(\"mydatabase.db\")\n",
    "    mycursor = mydb.cursor()\n",
    "    sql = \"INSERT INTO FavFoods (food, foodType) VALUES (?, ?)\"\n",
    "    val = [\n",
    "    ('Oreos', 'Dessert'),\n",
    "    ('Goldfish', 'Snack'),\n",
    "    ('Omelet', 'Breakfast'),\n",
    "    ('Shrimp burrito', 'Mexican'),\n",
    "    ('Pad Thai', 'Thai'),\n",
    "    ]\n",
    "    mycursor.executemany(sql, val)\n",
    "    mydb.commit()\n",
    "    mydb.close()\n",
    "\n",
    "def viewTable():\n",
    "    mydb = sqlite3.connect(\"mydatabase.db\")\n",
    "    mycursor = mydb.cursor()\n",
    "    sql = \"SELECT * FROM FavFoods ORDER BY foodType\"\n",
    "    mycursor.execute(sql)\n",
    "    tableData = mycursor.fetchall()\n",
    "    for x in tableData:\n",
    "        print(x)\n",
    "    mydb.commit()\n",
    "    mydb.close()\n",
    "    \n",
    "def deleteTable():\n",
    "    mydb = sqlite3.connect(\"mydatabase.db\")\n",
    "    mycursor = mydb.cursor()\n",
    "    sql = \"DROP TABLE FavFoods\"\n",
    "    mycursor.execute(sql)\n",
    "    mydb.close()"
   ]
  },
  {
   "cell_type": "code",
   "execution_count": 12,
   "metadata": {},
   "outputs": [
    {
     "name": "stdout",
     "output_type": "stream",
     "text": [
      "(3, 'Omelet', 'Breakfast')\n",
      "(1, 'Oreos', 'Dessert')\n",
      "(4, 'Shrimp burrito', 'Mexican')\n",
      "(2, 'Goldfish', 'Snack')\n",
      "(5, 'Pad Thai', 'Thai')\n"
     ]
    }
   ],
   "source": [
    "createTable()\n",
    "fillTable()\n",
    "viewTable()\n",
    "deleteTable()"
   ]
  },
  {
   "cell_type": "markdown",
   "metadata": {},
   "source": [
    "## Reverse a String"
   ]
  },
  {
   "cell_type": "markdown",
   "metadata": {},
   "source": [
    "Create a function called reverseString() that takes a string as an input.\n",
    "\n",
    "Have the function reverse the inputted string and output the result."
   ]
  },
  {
   "cell_type": "code",
   "execution_count": 22,
   "metadata": {},
   "outputs": [],
   "source": [
    "def reverseString(s):\n",
    "    revStr = ''\n",
    "    for i in s:\n",
    "        revStr = i + revStr\n",
    "    return revStr"
   ]
  },
  {
   "cell_type": "code",
   "execution_count": 23,
   "metadata": {},
   "outputs": [
    {
     "data": {
      "text/plain": [
       "'olleh'"
      ]
     },
     "execution_count": 23,
     "metadata": {},
     "output_type": "execute_result"
    }
   ],
   "source": [
    "reverseString(\"hello\")"
   ]
  },
  {
   "cell_type": "code",
   "execution_count": 24,
   "metadata": {},
   "outputs": [
    {
     "data": {
      "text/plain": [
       "'ssalc'"
      ]
     },
     "execution_count": 24,
     "metadata": {},
     "output_type": "execute_result"
    }
   ],
   "source": [
    "reverseString(\"class\")"
   ]
  },
  {
   "cell_type": "code",
   "execution_count": 25,
   "metadata": {},
   "outputs": [
    {
     "data": {
      "text/plain": [
       "'racecar'"
      ]
     },
     "execution_count": 25,
     "metadata": {},
     "output_type": "execute_result"
    }
   ],
   "source": [
    "reverseString(\"racecar\")"
   ]
  },
  {
   "cell_type": "markdown",
   "metadata": {},
   "source": [
    "## Coin Toss Game"
   ]
  },
  {
   "cell_type": "markdown",
   "metadata": {},
   "source": [
    "Let’s create a coin toss game where the user selects ‘Heads’ or ‘Tails’ from two widget buttons.\n",
    "\n",
    "Make sure to also display:\n",
    "* The result of each coin toss.\n",
    "* A progress bar widget that shows the user how many they’ve gotten right out of 5.\n",
    "\n",
    "The game ends when the user has correctly chosen 5 coin tosses."
   ]
  },
  {
   "cell_type": "code",
   "execution_count": 27,
   "metadata": {},
   "outputs": [
    {
     "data": {
      "application/vnd.jupyter.widget-view+json": {
       "model_id": "5b8061d46f31465b927013fc542e085a",
       "version_major": 2,
       "version_minor": 0
      },
      "text/plain": [
       "HBox(children=(Button(description='Heads', style=ButtonStyle()), Button(description='Tails', style=ButtonStyle…"
      ]
     },
     "metadata": {},
     "output_type": "display_data"
    },
    {
     "data": {
      "application/vnd.jupyter.widget-view+json": {
       "model_id": "9c887ba6a03d429b93a1d5d5abff27b0",
       "version_major": 2,
       "version_minor": 0
      },
      "text/plain": [
       "IntProgress(value=0, description='Progress', max=5)"
      ]
     },
     "metadata": {},
     "output_type": "display_data"
    },
    {
     "data": {
      "application/vnd.jupyter.widget-view+json": {
       "model_id": "83febf563fae4f9ea3b4b845eaf88414",
       "version_major": 2,
       "version_minor": 0
      },
      "text/plain": [
       "Label(value='')"
      ]
     },
     "metadata": {},
     "output_type": "display_data"
    },
    {
     "data": {
      "application/vnd.jupyter.widget-view+json": {
       "model_id": "8a013c87fcd849a7928ce46fa83e3458",
       "version_major": 2,
       "version_minor": 0
      },
      "text/plain": [
       "Label(value='')"
      ]
     },
     "metadata": {},
     "output_type": "display_data"
    }
   ],
   "source": [
    "import ipywidgets as widgets\n",
    "import random\n",
    "heads = widgets.Button(description='Heads')\n",
    "tails = widgets.Button(description='Tails')\n",
    "choiceBox = widgets.HBox([heads,tails])\n",
    "progressBar = widgets.IntProgress(value=0,min=0,max=5,description='Progress')\n",
    "resultLabel = widgets.Label()\n",
    "endGame = widgets.Label()\n",
    "\n",
    "def coinToss(b):\n",
    "    coin = random.choice(['Heads','Tails'])\n",
    "    progress = progressBar.value\n",
    "    if b.description == coin:\n",
    "        progress += 1\n",
    "        progressBar.value = progress\n",
    "        resultLabel.value = b.description + ' was correct!'\n",
    "    else:\n",
    "        resultLabel.value = b.description + ' was incorrect. Try again!'\n",
    "    if progress == 5:\n",
    "        endGame.value = \"You've correctly picked 5 tosses!\"\n",
    "        choiceBox.close()\n",
    "        resultLabel.close()\n",
    "\n",
    "display(choiceBox)\n",
    "display(progressBar)\n",
    "display(resultLabel)\n",
    "display(endGame)\n",
    "heads.on_click(coinToss)\n",
    "tails.on_click(coinToss)"
   ]
  },
  {
   "cell_type": "markdown",
   "metadata": {},
   "source": [
    "## JSON Exercise"
   ]
  },
  {
   "cell_type": "markdown",
   "metadata": {},
   "source": [
    "Open up your “JSON and API Requests” Jupyter Notebook.\n",
    "\n",
    "Create a new heading at the bottom titled “SpaceX Request”.\n",
    "\n",
    "Create a new request to the SpaceX launches API:\n",
    "https://api.spacexdata.com/v3/launches/latest?pretty=true\n",
    "\n",
    "Process  the JSON that was returned and print the most recent “rocket_id”."
   ]
  },
  {
   "cell_type": "code",
   "execution_count": 35,
   "metadata": {},
   "outputs": [
    {
     "name": "stdout",
     "output_type": "stream",
     "text": [
      "{'rocket_id': 'falconheavy', 'rocket_name': 'Falcon Heavy', 'rocket_type': 'FT', 'first_stage': {'cores': [{'core_serial': 'B1057', 'flight': 1, 'block': 5, 'gridfins': True, 'legs': True, 'reused': False, 'land_success': False, 'landing_intent': True, 'landing_type': 'ASDS', 'landing_vehicle': 'OCISLY'}, {'core_serial': 'B1052', 'flight': 2, 'block': 5, 'gridfins': True, 'legs': True, 'reused': True, 'land_success': True, 'landing_intent': True, 'landing_type': 'RTLS', 'landing_vehicle': 'LZ-1'}, {'core_serial': 'B1053', 'flight': 2, 'block': 5, 'gridfins': True, 'legs': True, 'reused': True, 'land_success': True, 'landing_intent': True, 'landing_type': 'RTLS', 'landing_vehicle': 'LZ-2'}]}, 'second_stage': {'block': 5, 'payloads': [{'payload_id': 'DSX', 'norad_id': [44344], 'reused': False, 'customers': ['USAF'], 'nationality': 'United States', 'manufacturer': 'Sierra Nevada Corporation', 'payload_type': 'Satellite', 'payload_mass_kg': 600, 'payload_mass_lbs': 1322.77, 'orbit': 'MEO', 'orbit_params': {'reference_system': 'geocentric', 'regime': 'medium-earth', 'longitude': None, 'semi_major_axis_km': 15397.887, 'eccentricity': 0.1957896, 'periapsis_km': 6005.005, 'apoapsis_km': 12034.498, 'inclination_deg': 42.2061, 'period_min': 316.921, 'lifespan_years': None, 'epoch': '2019-06-27T09:30:01.000Z', 'mean_motion': 4.54371484, 'raan': 202.9685, 'arg_of_pericenter': 0.8719, 'mean_anomaly': 359.4795}}, {'payload_id': 'COSMIC-2', 'norad_id': [], 'reused': False, 'customers': ['NOAA', 'NASA', 'Taiwan'], 'nationality': 'United States', 'manufacturer': 'National Space Organization', 'payload_type': 'Satellite', 'payload_mass_kg': 1668, 'payload_mass_lbs': 3677.3, 'orbit': 'LEO', 'orbit_params': {'reference_system': 'geocentric', 'regime': 'low-earth', 'longitude': None, 'semi_major_axis_km': None, 'eccentricity': None, 'periapsis_km': None, 'apoapsis_km': None, 'inclination_deg': None, 'period_min': None, 'lifespan_years': None, 'epoch': None, 'mean_motion': None, 'raan': None, 'arg_of_pericenter': None, 'mean_anomaly': None}}, {'payload_id': 'GPIM', 'norad_id': [], 'reused': False, 'customers': ['NASA'], 'nationality': 'United States', 'manufacturer': 'Ball Aerospace & Technologies Corp', 'payload_type': 'Satellite', 'payload_mass_kg': 180, 'payload_mass_lbs': 396, 'orbit': 'LEO', 'orbit_params': {'reference_system': 'geocentric', 'regime': 'low-earth', 'longitude': None, 'semi_major_axis_km': None, 'eccentricity': None, 'periapsis_km': None, 'apoapsis_km': None, 'inclination_deg': None, 'period_min': None, 'lifespan_years': None, 'epoch': None, 'mean_motion': None, 'raan': None, 'arg_of_pericenter': None, 'mean_anomaly': None}}, {'payload_id': 'Oculus-ASR', 'norad_id': [], 'reused': False, 'customers': ['Michigan Tech'], 'nationality': 'United States', 'manufacturer': 'Michigan Tech', 'payload_type': 'Satellite', 'payload_mass_kg': 70, 'payload_mass_lbs': 154, 'orbit': 'LEO', 'orbit_params': {'reference_system': 'geocentric', 'regime': 'low-earth', 'longitude': None, 'semi_major_axis_km': None, 'eccentricity': None, 'periapsis_km': None, 'apoapsis_km': None, 'inclination_deg': None, 'period_min': None, 'lifespan_years': None, 'epoch': None, 'mean_motion': None, 'raan': None, 'arg_of_pericenter': None, 'mean_anomaly': None}}, {'payload_id': 'OTB 1', 'norad_id': [], 'reused': False, 'customers': ['General Atomics'], 'nationality': 'United States', 'manufacturer': 'Surrey Satellite Technology-US LLC', 'payload_type': 'Satellite', 'payload_mass_kg': 138, 'payload_mass_lbs': 304, 'orbit': 'LEO', 'orbit_params': {'reference_system': 'geocentric', 'regime': 'low-earth', 'longitude': None, 'semi_major_axis_km': None, 'eccentricity': None, 'periapsis_km': None, 'apoapsis_km': None, 'inclination_deg': None, 'period_min': None, 'lifespan_years': None, 'epoch': None, 'mean_motion': None, 'raan': None, 'arg_of_pericenter': None, 'mean_anomaly': None}}, {'payload_id': 'NPSAT 1', 'norad_id': [], 'reused': False, 'customers': ['Naval Postgrad School'], 'nationality': 'United States', 'manufacturer': 'Naval Postgrad School', 'payload_type': 'Satellite', 'payload_mass_kg': 86, 'payload_mass_lbs': 189, 'orbit': 'LEO', 'orbit_params': {'reference_system': 'geocentric', 'regime': 'low-earth', 'longitude': None, 'semi_major_axis_km': None, 'eccentricity': None, 'periapsis_km': None, 'apoapsis_km': None, 'inclination_deg': None, 'period_min': None, 'lifespan_years': None, 'epoch': None, 'mean_motion': None, 'raan': None, 'arg_of_pericenter': None, 'mean_anomaly': None}}, {'payload_id': 'Prox-1', 'norad_id': [], 'reused': False, 'customers': ['Georgia Tech'], 'nationality': 'United States', 'manufacturer': 'Georgia Tech', 'payload_type': 'Satellite', 'payload_mass_kg': 71, 'payload_mass_lbs': 156, 'orbit': 'LEO', 'orbit_params': {'reference_system': 'geocentric', 'regime': 'low-earth', 'longitude': None, 'semi_major_axis_km': None, 'eccentricity': None, 'periapsis_km': None, 'apoapsis_km': None, 'inclination_deg': None, 'period_min': None, 'lifespan_years': None, 'epoch': None, 'mean_motion': None, 'raan': None, 'arg_of_pericenter': None, 'mean_anomaly': None}}, {'payload_id': 'LightSail-B', 'norad_id': [], 'reused': False, 'customers': ['Planetary Society'], 'nationality': 'United States', 'manufacturer': 'Planetary Society', 'payload_type': 'Satellite', 'payload_mass_kg': 5, 'payload_mass_lbs': 11, 'orbit': 'LEO', 'orbit_params': {'reference_system': 'geocentric', 'regime': 'low-earth', 'longitude': None, 'semi_major_axis_km': None, 'eccentricity': None, 'periapsis_km': None, 'apoapsis_km': None, 'inclination_deg': None, 'period_min': None, 'lifespan_years': None, 'epoch': None, 'mean_motion': None, 'raan': None, 'arg_of_pericenter': None, 'mean_anomaly': None}}, {'payload_id': 'ARMADILLO', 'norad_id': [], 'reused': False, 'customers': ['University of Texas'], 'nationality': 'United States', 'manufacturer': 'University of Texas', 'payload_type': 'Satellite', 'payload_mass_kg': 4, 'payload_mass_lbs': 8.8, 'orbit': 'LEO', 'orbit_params': {'reference_system': 'geocentric', 'regime': 'low-earth', 'longitude': None, 'semi_major_axis_km': None, 'eccentricity': None, 'periapsis_km': None, 'apoapsis_km': None, 'inclination_deg': None, 'period_min': None, 'lifespan_years': None, 'epoch': None, 'mean_motion': None, 'raan': None, 'arg_of_pericenter': None, 'mean_anomaly': None}}, {'payload_id': 'FalconSat 7', 'norad_id': [], 'reused': False, 'customers': ['USAF Academy'], 'nationality': 'United States', 'manufacturer': 'USAF Academy', 'payload_type': 'Satellite', 'payload_mass_kg': 5, 'payload_mass_lbs': 11, 'orbit': 'LEO', 'orbit_params': {'reference_system': 'geocentric', 'regime': 'low-earth', 'longitude': None, 'semi_major_axis_km': None, 'eccentricity': None, 'periapsis_km': None, 'apoapsis_km': None, 'inclination_deg': None, 'period_min': None, 'lifespan_years': None, 'epoch': None, 'mean_motion': None, 'raan': None, 'arg_of_pericenter': None, 'mean_anomaly': None}}, {'payload_id': 'E-TBEx A & B', 'norad_id': [], 'reused': False, 'customers': ['SRI International'], 'nationality': 'United States', 'manufacturer': 'SRI International', 'payload_type': 'Satellite', 'payload_mass_kg': 4, 'payload_mass_lbs': 8.8, 'orbit': 'LEO', 'orbit_params': {'reference_system': 'geocentric', 'regime': 'low-earth', 'longitude': None, 'semi_major_axis_km': None, 'eccentricity': None, 'periapsis_km': None, 'apoapsis_km': None, 'inclination_deg': None, 'period_min': None, 'lifespan_years': None, 'epoch': None, 'mean_motion': None, 'raan': None, 'arg_of_pericenter': None, 'mean_anomaly': None}}, {'payload_id': 'PSat 2', 'norad_id': [], 'reused': False, 'customers': ['US Naval Academy'], 'nationality': 'United States', 'manufacturer': 'US Naval Academy', 'payload_type': 'Satellite', 'payload_mass_kg': 2, 'payload_mass_lbs': 4.4, 'orbit': 'LEO', 'orbit_params': {'reference_system': 'geocentric', 'regime': 'low-earth', 'longitude': None, 'semi_major_axis_km': None, 'eccentricity': None, 'periapsis_km': None, 'apoapsis_km': None, 'inclination_deg': None, 'period_min': None, 'lifespan_years': None, 'epoch': None, 'mean_motion': None, 'raan': None, 'arg_of_pericenter': None, 'mean_anomaly': None}}, {'payload_id': 'BRICSat 2', 'norad_id': [], 'reused': False, 'customers': ['US Naval Academy'], 'nationality': 'United States', 'manufacturer': 'US Naval Academy', 'payload_type': 'Satellite', 'payload_mass_kg': 1, 'payload_mass_lbs': 2.2, 'orbit': 'LEO', 'orbit_params': {'reference_system': 'geocentric', 'regime': 'low-earth', 'longitude': None, 'semi_major_axis_km': None, 'eccentricity': None, 'periapsis_km': None, 'apoapsis_km': None, 'inclination_deg': None, 'period_min': None, 'lifespan_years': None, 'epoch': None, 'mean_motion': None, 'raan': None, 'arg_of_pericenter': None, 'mean_anomaly': None}}, {'payload_id': 'TEPCE 1 & 2', 'norad_id': [], 'reused': False, 'customers': ['Naval Research Lab'], 'nationality': 'United States', 'manufacturer': 'Naval Research Lab', 'payload_type': 'Satellite', 'payload_mass_kg': 1.5, 'payload_mass_lbs': 3.3, 'orbit': 'LEO', 'orbit_params': {'reference_system': 'geocentric', 'regime': 'low-earth', 'longitude': None, 'semi_major_axis_km': None, 'eccentricity': None, 'periapsis_km': None, 'apoapsis_km': None, 'inclination_deg': None, 'period_min': None, 'lifespan_years': None, 'epoch': None, 'mean_motion': None, 'raan': None, 'arg_of_pericenter': None, 'mean_anomaly': None}}, {'payload_id': 'CP9', 'norad_id': [], 'reused': False, 'customers': ['Cal Poly'], 'nationality': 'United States', 'manufacturer': 'Cal Poly', 'payload_type': 'Satellite', 'payload_mass_kg': 1.5, 'payload_mass_lbs': 3.3, 'orbit': 'LEO', 'orbit_params': {'reference_system': 'geocentric', 'regime': 'low-earth', 'longitude': None, 'semi_major_axis_km': None, 'eccentricity': None, 'periapsis_km': None, 'apoapsis_km': None, 'inclination_deg': None, 'period_min': None, 'lifespan_years': None, 'epoch': None, 'mean_motion': None, 'raan': None, 'arg_of_pericenter': None, 'mean_anomaly': None}}, {'payload_id': 'StangSat', 'norad_id': [], 'reused': False, 'customers': ['Merrit Island HS'], 'nationality': 'United States', 'manufacturer': 'Merrit Island HS', 'payload_type': 'Satellite', 'payload_mass_kg': 1, 'payload_mass_lbs': 2.2, 'orbit': 'LEO', 'orbit_params': {'reference_system': 'geocentric', 'regime': 'low-earth', 'longitude': None, 'semi_major_axis_km': None, 'eccentricity': None, 'periapsis_km': None, 'apoapsis_km': None, 'inclination_deg': None, 'period_min': None, 'lifespan_years': None, 'epoch': None, 'mean_motion': None, 'raan': None, 'arg_of_pericenter': None, 'mean_anomaly': None}}]}, 'fairings': {'reused': False, 'recovery_attempt': True, 'recovered': True, 'ship': 'GOMSTREE'}}\n"
     ]
    }
   ],
   "source": [
    "import requests\n",
    "import json\n",
    "url = 'https://api.spacexdata.com/v3/launches/latest?pretty=true'\n",
    "request = requests.get(url)\n",
    "data = json.loads(request.content)\n",
    "rocket_data = data['rocket']\n",
    "print(rocket_data)"
   ]
  },
  {
   "cell_type": "code",
   "execution_count": null,
   "metadata": {},
   "outputs": [],
   "source": []
  },
  {
   "cell_type": "code",
   "execution_count": null,
   "metadata": {},
   "outputs": [],
   "source": []
  },
  {
   "cell_type": "code",
   "execution_count": null,
   "metadata": {},
   "outputs": [],
   "source": []
  },
  {
   "cell_type": "code",
   "execution_count": null,
   "metadata": {},
   "outputs": [],
   "source": []
  },
  {
   "cell_type": "code",
   "execution_count": null,
   "metadata": {},
   "outputs": [],
   "source": []
  },
  {
   "cell_type": "code",
   "execution_count": null,
   "metadata": {},
   "outputs": [],
   "source": []
  },
  {
   "cell_type": "code",
   "execution_count": null,
   "metadata": {},
   "outputs": [],
   "source": []
  }
 ],
 "metadata": {
  "kernelspec": {
   "display_name": "Python 3",
   "language": "python",
   "name": "python3"
  },
  "language_info": {
   "codemirror_mode": {
    "name": "ipython",
    "version": 3
   },
   "file_extension": ".py",
   "mimetype": "text/x-python",
   "name": "python",
   "nbconvert_exporter": "python",
   "pygments_lexer": "ipython3",
   "version": "3.7.3"
  }
 },
 "nbformat": 4,
 "nbformat_minor": 2
}
