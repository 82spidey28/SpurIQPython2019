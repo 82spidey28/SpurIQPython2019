{
 "cells": [
  {
   "cell_type": "markdown",
   "metadata": {},
   "source": [
    "# Setup"
   ]
  },
  {
   "cell_type": "code",
   "execution_count": 8,
   "metadata": {},
   "outputs": [],
   "source": [
    "import sqlite3"
   ]
  },
  {
   "cell_type": "markdown",
   "metadata": {},
   "source": [
    "# Database Setup"
   ]
  },
  {
   "cell_type": "code",
   "execution_count": 9,
   "metadata": {},
   "outputs": [],
   "source": [
    "def createTable():\n",
    "    mydb = sqlite3.connect(\"mydatabase.db\")\n",
    "    mycursor = mydb.cursor()\n",
    "    mycursor.execute(\"CREATE TABLE Trivia (id INTEGER PRIMARY KEY, Question VARCHAR(255), Answer VARCHAR(255), Category VARCHAR(255), Difficulty VARCHAR(255))\")\n",
    "    mydb.close()\n",
    "    \n",
    "def fillTable():   \n",
    "    mydb = sqlite3.connect(\"mydatabase.db\")\n",
    "    mycursor = mydb.cursor()\n",
    "    sql = \"INSERT INTO Trivia (Question, Answer, Category, Difficulty ) VALUES (?, ?, ?, ?)\"\n",
    "    val = [\n",
    "    ('What pokemon does Ash start with?', 'Pikachu', 'Pokemon', 'Easy'),\n",
    "    ('What pokemon does Mallow start with?', 'Steenie', 'Pokemon', 'Easy'),\n",
    "    ('What pokemon does Lana start with?', 'Popplio', 'Pokemon', 'Easy'),\n",
    "    ('What pokemon does Kiawe start with?', 'Turtonator', 'Pokemon', 'Easy'), \n",
    "    ('What pokemon does Sophocles start with?', 'Togedemaru', 'Pokemon', 'Easy'),\n",
    "    ('What does Lillie name her Cosmog?', 'Nebby', 'Pokemon', 'Medium'),\n",
    "    ('What does Lillie name her Vulpix?', 'Snowy', 'Pokemon', 'Easy'),\n",
    "    ('What is the first Z Cyrstal that Ash gets?', 'Electrium Z, Electrium, Electric, Electric Type', 'Pokemon', 'Easy'),\n",
    "    ('What is the leaf type totem pokemon?', 'Lurantis, Totem Lurantis', 'Pokemon'),\n",
    "    ('What is the leaf totem pokemon ally?', 'Castform, Castform Sunny, Castform (Sunny form)', 'Pokemon', 'Easy', 'Easy'), \n",
    "    ('How many hearts does an octopus have?', '3, 3 hearts', 'Animals', 'Medium'),\n",
    "    ('What is the largest insect in the world?', 'Giant Weta, Weta', 'Animals', 'Hard'), \n",
    "    ('What is the largest animal in the world?', 'Blue Whale', 'Animals', 'Easy'), \n",
    "    ('What is the fastest animal in the world?', 'Cheetah', 'Animals', 'Easy'),\n",
    "    ('What is the slowest animal in the world?', 'Sloth, Three toed sloth, Three-toed sloth', 'Animals', 'Easy'),\n",
    "    ('How fast does a garden snail move?', '0.029mph', 'Animals', 'Hard'),\n",
    "    ('What do pandas eat?', 'Bamboo', 'Animals', 'Easy'),\n",
    "    ('Which is not in the deer family? Elk, Moose, Caribou, Mule deer, Black-spotted deer, White-tailed deer and Black-tailed deer.', 'Black-spotted deer', 'Animals', 'Medium'),\n",
    "    ('How many species of snakes are there?', '375, 375 species', 'Animals', 'Medium'),\n",
    "    ('About how many indivisual insects are there in the world?', '10,000,000,000,000,000,000, 10,000,000,000,000,000,000 insects, 10000000000000000000, 10000000000000000000 insects', 'Animals', 'Extra Hard'),\n",
    "    ('In basketball, catching your own airball goes into which category?', 'Travel', 'Sports', 'Easy'),\n",
    "    ('In basketball, does stepping on the three-pointer line count as a three-pointer?', 'No', 'Sports', 'Easy'),\n",
    "    ('Are there backcourts in soccer?', 'No', 'Sports', 'Easy'),\n",
    "    ('Who is the current champion for the 100 and 200 meter track in Olympics?(First and last name)', 'Usain Bolt', 'Sports', 'Easy'),\n",
    "    ('Name the three best soccer players in the world in alphabetical order?(First and last name)', 'Cristiano Ronaldo, Lionel Messi, and Neymar Jr', 'Sports', 'Extra Hard'),\n",
    "    ('Who is the best swimmer in the world?(First and last name)', 'Michael Phelps', 'Sports', 'Medium'),\n",
    "    ('Who is the Best Boxer in the world?(First and last name)', 'Muhammad Ali', 'Sports', 'Extra Hard'),\n",
    "    ('How many points does the best tennis player in the world have?', '12415, 12415 points', 'Sports', 'Easy'),\n",
    "    ('Who is the best table tennis player in the world?(First and last name)', 'Jan-Ove Waldner, Jan Waldner', 'Sports', 'Easy'),\n",
    "    ('Who is the best basketball player in the world?(First and last name)', 'Kevin Durant', 'Sports', 'Easy'),    \n",
    "    ]\n",
    "    mycursor.executemany(sql, val)\n",
    "    print(mycursor.rowcount)        \n",
    "    mydb.commit()\n",
    "    mydb.close()\n",
    "    \n",
    "def viewTable(): \n",
    "    mydb = sqlite3.connect(\"mydatabase.db\")\n",
    "    mycursor = mydb.cursor()\n",
    "    sql = \"SELECT * FROM Trivia\"\n",
    "    mycursor.execute(sql)\n",
    "    tableData = mycursor.fetchall()\n",
    "    for x in tableData:\n",
    "      print(x)\n",
    "    mydb.commit()\n",
    "    mydb.close()\n",
    "\n",
    "def deleteTable():   \n",
    "    mydb = sqlite3.connect(\"mydatabase.db\")\n",
    "    mycursor = mydb.cursor()\n",
    "    sql = \"DROP TABLE IF EXISTS Trivia\"\n",
    "    mycursor.execute(sql)\n",
    "    mydb.close()"
   ]
  },
  {
   "cell_type": "code",
   "execution_count": 10,
   "metadata": {},
   "outputs": [
    {
     "name": "stdout",
     "output_type": "stream",
     "text": [
      "5\n",
      "(1, 'What pokemon does Ash start with?', 'Pikachu', 'Pokemon')\n",
      "(2, 'What pokemon does Mallow start with?', 'Steenie', 'Pokemon')\n",
      "(3, 'What pokemon does Lana start with?', 'Popplio', 'Pokemon')\n",
      "(4, 'What pokemon does Kiawe start with?', 'Turtonator', 'Pokemon')\n",
      "(5, 'What pokemon does Sophocles start with?', 'Togedemaru', 'Pokemon')\n"
     ]
    }
   ],
   "source": [
    "deleteTable()\n",
    "createTable()\n",
    "fillTable()\n",
    "viewTable()"
   ]
  },
  {
   "cell_type": "code",
   "execution_count": null,
   "metadata": {},
   "outputs": [],
   "source": []
  }
 ],
 "metadata": {
  "kernelspec": {
   "display_name": "Python 3",
   "language": "python",
   "name": "python3"
  },
  "language_info": {
   "codemirror_mode": {
    "name": "ipython",
    "version": 3
   },
   "file_extension": ".py",
   "mimetype": "text/x-python",
   "name": "python",
   "nbconvert_exporter": "python",
   "pygments_lexer": "ipython3",
   "version": "3.7.3"
  }
 },
 "nbformat": 4,
 "nbformat_minor": 2
}
