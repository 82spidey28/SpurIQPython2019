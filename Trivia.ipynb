{
 "cells": [
  {
   "cell_type": "markdown",
   "metadata": {},
   "source": [
    "# Setup"
   ]
  },
  {
   "cell_type": "code",
   "execution_count": 66,
   "metadata": {},
   "outputs": [],
   "source": [
    "import sqlite3\n",
    "import ipywidgets as widgets\n",
    "import random"
   ]
  },
  {
   "cell_type": "markdown",
   "metadata": {},
   "source": [
    "# Database Setup"
   ]
  },
  {
   "cell_type": "code",
   "execution_count": 67,
   "metadata": {},
   "outputs": [],
   "source": [
    "def createTable():\n",
    "    mydb = sqlite3.connect(\"mydatabase.db\")\n",
    "    mycursor = mydb.cursor()\n",
    "    mycursor.execute(\"CREATE TABLE Trivia (id INTEGER PRIMARY KEY, Question VARCHAR(255), Answer VARCHAR(255), Category VARCHAR(255), Difficulty VARCHAR(255))\")\n",
    "    mydb.close()\n",
    "    \n",
    "def fillTable():   \n",
    "    mydb = sqlite3.connect(\"mydatabase.db\")\n",
    "    mycursor = mydb.cursor()\n",
    "    sql = \"INSERT INTO Trivia (Question, Answer, Category, Difficulty ) VALUES (?, ?, ?, ?)\"\n",
    "    val = [\n",
    "    ('What pokemon does Ash start with?', 'pikachu', 'pokemon', 'easy'),\n",
    "    ('What pokemon does Mallow start with?', 'bounsweet', 'pokemon', 'easy'),\n",
    "    ('What pokemon does Lana start with?', 'popplio', 'pokemon', 'easy'),\n",
    "    ('What pokemon does Kiawe start with?', 'turtonator', 'pokemon', 'easy'), \n",
    "    ('What pokemon does Sophocles start with?', 'togedemaru', 'pokemon', 'easy'),\n",
    "    ('What does Lillie name her Vulpix?', 'snowy', 'pokemon', 'easy'),\n",
    "    ('What is the first Z Cyrstal that Ash gets?', 'electrium z, electrium, electric, electric type', 'pokemon', 'easy'),\n",
    "    ('Is Ho-Oh gold or silver?', 'gold', 'pokemon', 'easy'),\n",
    "    ('What is the most common flying type pokemon to find?', 'pidgey', 'pokemon', 'easy'),\n",
    "    ('Does Lycanroc have a mega evolution?', 'no', 'pokemon', 'easy'),\n",
    "        \n",
    "    ('What is the second pokemon that Ash saw Lillie touch?', 'pikachu', 'pokemon', 'medium'),    \n",
    "    (\"What two colors are the flames of Alolan Marowak's bone?\", 'green and yellow, yellow and green', 'pokemon', 'medium'),    \n",
    "    ('Is there a totem Yungoos?', 'no', 'pokemon', 'medium'),    \n",
    "    ('What does Lillie name her Cosmog?', 'nebby', 'pokemon', 'medium'),    \n",
    "    ('What is the leaf type totem pokemon?', 'lurantis, totem lurantis', 'pokemon', 'medium'),\n",
    "    ('What is the leaf totem pokemon ally?', 'castform, castform sunny, castform (sunny form)', 'pokemon', 'medium'), \n",
    "    ('How many hearts does an octopus have?', '3, 3 hearts', 'animals', 'medium'),\n",
    "    ('What two pokemon help most at the pokemon center?', 'blissey and chansey, chansey and blissey', 'pokemon', 'medium'),\n",
    "    ('Oricorio Pom-Pom style is mostly what color?', 'yellow', 'pokemon', 'medium'),\n",
    "    ('Which pokeball did Jesse catch Mimikye?', 'luxury ball', 'pokemon', 'medium'),    \n",
    "    \n",
    "    (\"What is the name of Lillie's servant?\", 'hobbes', 'pokemon', 'hard'),\n",
    "    (\"?\", 'hobbes', 'pokemon', 'hard'),\n",
    "    (\"?\", 'hobbes', 'pokemon', 'hard'),\n",
    "    (\"?\", 'hobbes', 'pokemon', 'hard'),\n",
    "    (\"?\", 'hobbes', 'pokemon', 'hard'),\n",
    "    (\"\", 'hobbes', 'pokemon', 'hard'),\n",
    "    (\"What is the name of Lillie's servant?\", 'hobbes', 'pokemon', 'hard'),\n",
    "    (\"What is the name of Lillie's servant?\", 'hobbes', 'pokemon', 'hard'),\n",
    "    (\"What is the name of Lillie's servant?\", 'hobbes', 'pokemon', 'hard'),\n",
    "    (\"What is the name of Lillie's servant?\", 'hobbes', 'pokemon', 'hard'),    \n",
    "        \n",
    "    ('What is the largest insect in the world?', 'giant weta, weta', 'animals', 'hard'), \n",
    "    ('What is the largest animal in the world?', 'blue whale', 'animals', 'easy'), \n",
    "    ('What is the fastest animal in the world?', 'cheetah', 'animals', 'easy'),\n",
    "    ('What is the slowest animal in the world?', 'sloth, three toed sloth, three-toed sloth', 'animals', 'easy'),\n",
    "    ('How fast does a garden snail move?', '0.029mph', 'animals', 'hard'),\n",
    "    ('What do pandas eat?', 'bamboo', 'animals', 'easy'),\n",
    "    ('Which is not in the deer family? Elk, Moose, Caribou, Mule deer, Black-spotted deer, White-tailed deer and Black-tailed deer.', 'black-spotted deer', 'animals', 'medium'),\n",
    "    ('How many species of snakes are there?', '375, 375 species, 375species', 'animals', 'hard'),\n",
    "    ('About how many indivisual insects are there in the world?', '10,000,000,000,000,000,000, 10,000,000,000,000,000,000 insects, 10000000000000000000, 10000000000000000000 insects', 'animals', 'extra hard'),\n",
    "    ('In basketball, catching your own airball goes into which category?', 'travel', 'sports', 'easy'),\n",
    "    ('In basketball, does stepping on the three-pointer line count as a three-pointer?', 'no', 'sports', 'easy'),\n",
    "    ('Are there backcourts in soccer?', 'no', 'sports', 'easy'),\n",
    "    ('Who is the current champion for the 100 and 200 meter track in Olympics?(First and last name)', 'usain bolt', 'sports', 'easy'),\n",
    "    ('Name the three best soccer players in the world in alphabetical order?(First and last name initials)', 'c r, l m, n j, c.r, l.m, n.j, c.r., l.m., n.j. ', 'sports', 'extra hard'),\n",
    "    ('Who is the best swimmer in the world?(First and last name)', 'michael phelps', 'sports', 'medium'),\n",
    "    ('Who is the best boxer in the world?(First and last name)', 'muhammad ali', 'sports', 'hard'),\n",
    "    ('How many points does the best tennis player in the world have?', '12415, 12415 points', 'sports', 'extra hard'),\n",
    "    ('Who is the best table tennis player in the world?(First and last name)', 'roger federer', 'sports', 'medium'),\n",
    "    ('Who is the best basketball player in the world?(First and last name)', 'lebron james', 'sports', 'easy'),    \n",
    "    ]\n",
    "    mycursor.executemany(sql, val)\n",
    "    print(mycursor.rowcount)        \n",
    "    mydb.commit()\n",
    "    mydb.close()\n",
    "    \n",
    "def viewTable(): \n",
    "    mydb = sqlite3.connect(\"mydatabase.db\")\n",
    "    mycursor = mydb.cursor()\n",
    "    sql = \"SELECT * FROM Trivia\"\n",
    "    mycursor.execute(sql)\n",
    "    tableData = mycursor.fetchall()\n",
    "    for x in tableData:\n",
    "      print(x)\n",
    "    mydb.commit()\n",
    "    mydb.close()\n",
    "\n",
    "def deleteTable():   \n",
    "    mydb = sqlite3.connect(\"mydatabase.db\")\n",
    "    mycursor = mydb.cursor()\n",
    "    sql = \"DROP TABLE IF EXISTS Trivia\"\n",
    "    mycursor.execute(sql)\n",
    "    mydb.close()\n",
    "    \n",
    "def getQuestions(category):\n",
    "    mydb = sqlite3.connect(\"mydatabase.db\")\n",
    "    mycursor = mydb.cursor()\n",
    "    category = category.lower()\n",
    "    sql = \"SELECT * FROM Trivia WHERE Category = ?\"\n",
    "    val = [category,]\n",
    "    mycursor.execute(sql,val)\n",
    "    results = mycursor.fetchall()\n",
    "    return results    \n",
    "    "
   ]
  },
  {
   "cell_type": "markdown",
   "metadata": {},
   "source": [
    "# Game"
   ]
  },
  {
   "cell_type": "code",
   "execution_count": 68,
   "metadata": {},
   "outputs": [
    {
     "name": "stdout",
     "output_type": "stream",
     "text": [
      "30\n"
     ]
    },
    {
     "ename": "KeyboardInterrupt",
     "evalue": "",
     "output_type": "error",
     "traceback": [
      "\u001b[0;31m---------------------------------------------------------------------------\u001b[0m",
      "\u001b[0;31mKeyboardInterrupt\u001b[0m                         Traceback (most recent call last)",
      "\u001b[0;32m/anaconda3/lib/python3.7/site-packages/ipykernel/kernelbase.py\u001b[0m in \u001b[0;36m_input_request\u001b[0;34m(self, prompt, ident, parent, password)\u001b[0m\n\u001b[1;32m    877\u001b[0m             \u001b[0;32mtry\u001b[0m\u001b[0;34m:\u001b[0m\u001b[0;34m\u001b[0m\u001b[0;34m\u001b[0m\u001b[0m\n\u001b[0;32m--> 878\u001b[0;31m                 \u001b[0mident\u001b[0m\u001b[0;34m,\u001b[0m \u001b[0mreply\u001b[0m \u001b[0;34m=\u001b[0m \u001b[0mself\u001b[0m\u001b[0;34m.\u001b[0m\u001b[0msession\u001b[0m\u001b[0;34m.\u001b[0m\u001b[0mrecv\u001b[0m\u001b[0;34m(\u001b[0m\u001b[0mself\u001b[0m\u001b[0;34m.\u001b[0m\u001b[0mstdin_socket\u001b[0m\u001b[0;34m,\u001b[0m \u001b[0;36m0\u001b[0m\u001b[0;34m)\u001b[0m\u001b[0;34m\u001b[0m\u001b[0;34m\u001b[0m\u001b[0m\n\u001b[0m\u001b[1;32m    879\u001b[0m             \u001b[0;32mexcept\u001b[0m \u001b[0mException\u001b[0m\u001b[0;34m:\u001b[0m\u001b[0;34m\u001b[0m\u001b[0;34m\u001b[0m\u001b[0m\n",
      "\u001b[0;32m/anaconda3/lib/python3.7/site-packages/jupyter_client/session.py\u001b[0m in \u001b[0;36mrecv\u001b[0;34m(self, socket, mode, content, copy)\u001b[0m\n\u001b[1;32m    802\u001b[0m         \u001b[0;32mtry\u001b[0m\u001b[0;34m:\u001b[0m\u001b[0;34m\u001b[0m\u001b[0;34m\u001b[0m\u001b[0m\n\u001b[0;32m--> 803\u001b[0;31m             \u001b[0mmsg_list\u001b[0m \u001b[0;34m=\u001b[0m \u001b[0msocket\u001b[0m\u001b[0;34m.\u001b[0m\u001b[0mrecv_multipart\u001b[0m\u001b[0;34m(\u001b[0m\u001b[0mmode\u001b[0m\u001b[0;34m,\u001b[0m \u001b[0mcopy\u001b[0m\u001b[0;34m=\u001b[0m\u001b[0mcopy\u001b[0m\u001b[0;34m)\u001b[0m\u001b[0;34m\u001b[0m\u001b[0;34m\u001b[0m\u001b[0m\n\u001b[0m\u001b[1;32m    804\u001b[0m         \u001b[0;32mexcept\u001b[0m \u001b[0mzmq\u001b[0m\u001b[0;34m.\u001b[0m\u001b[0mZMQError\u001b[0m \u001b[0;32mas\u001b[0m \u001b[0me\u001b[0m\u001b[0;34m:\u001b[0m\u001b[0;34m\u001b[0m\u001b[0;34m\u001b[0m\u001b[0m\n",
      "\u001b[0;32m/anaconda3/lib/python3.7/site-packages/zmq/sugar/socket.py\u001b[0m in \u001b[0;36mrecv_multipart\u001b[0;34m(self, flags, copy, track)\u001b[0m\n\u001b[1;32m    469\u001b[0m         \"\"\"\n\u001b[0;32m--> 470\u001b[0;31m         \u001b[0mparts\u001b[0m \u001b[0;34m=\u001b[0m \u001b[0;34m[\u001b[0m\u001b[0mself\u001b[0m\u001b[0;34m.\u001b[0m\u001b[0mrecv\u001b[0m\u001b[0;34m(\u001b[0m\u001b[0mflags\u001b[0m\u001b[0;34m,\u001b[0m \u001b[0mcopy\u001b[0m\u001b[0;34m=\u001b[0m\u001b[0mcopy\u001b[0m\u001b[0;34m,\u001b[0m \u001b[0mtrack\u001b[0m\u001b[0;34m=\u001b[0m\u001b[0mtrack\u001b[0m\u001b[0;34m)\u001b[0m\u001b[0;34m]\u001b[0m\u001b[0;34m\u001b[0m\u001b[0;34m\u001b[0m\u001b[0m\n\u001b[0m\u001b[1;32m    471\u001b[0m         \u001b[0;31m# have first part already, only loop while more to receive\u001b[0m\u001b[0;34m\u001b[0m\u001b[0;34m\u001b[0m\u001b[0;34m\u001b[0m\u001b[0m\n",
      "\u001b[0;32mzmq/backend/cython/socket.pyx\u001b[0m in \u001b[0;36mzmq.backend.cython.socket.Socket.recv\u001b[0;34m()\u001b[0m\n",
      "\u001b[0;32mzmq/backend/cython/socket.pyx\u001b[0m in \u001b[0;36mzmq.backend.cython.socket.Socket.recv\u001b[0;34m()\u001b[0m\n",
      "\u001b[0;32mzmq/backend/cython/socket.pyx\u001b[0m in \u001b[0;36mzmq.backend.cython.socket._recv_copy\u001b[0;34m()\u001b[0m\n",
      "\u001b[0;32m/anaconda3/lib/python3.7/site-packages/zmq/backend/cython/checkrc.pxd\u001b[0m in \u001b[0;36mzmq.backend.cython.checkrc._check_rc\u001b[0;34m()\u001b[0m\n",
      "\u001b[0;31mKeyboardInterrupt\u001b[0m: ",
      "\nDuring handling of the above exception, another exception occurred:\n",
      "\u001b[0;31mKeyboardInterrupt\u001b[0m                         Traceback (most recent call last)",
      "\u001b[0;32m<ipython-input-68-3e8a8ee9bc22>\u001b[0m in \u001b[0;36m<module>\u001b[0;34m\u001b[0m\n\u001b[1;32m      3\u001b[0m \u001b[0mfillTable\u001b[0m\u001b[0;34m(\u001b[0m\u001b[0;34m)\u001b[0m\u001b[0;34m\u001b[0m\u001b[0;34m\u001b[0m\u001b[0m\n\u001b[1;32m      4\u001b[0m \u001b[0;34m\u001b[0m\u001b[0m\n\u001b[0;32m----> 5\u001b[0;31m \u001b[0mcategory\u001b[0m \u001b[0;34m=\u001b[0m \u001b[0minput\u001b[0m\u001b[0;34m(\u001b[0m\u001b[0;34m\"Do you want to play Trivia with Pokemon, Animals, or Sports? \"\u001b[0m\u001b[0;34m)\u001b[0m\u001b[0;34m.\u001b[0m\u001b[0mlower\u001b[0m\u001b[0;34m(\u001b[0m\u001b[0;34m)\u001b[0m\u001b[0;34m\u001b[0m\u001b[0;34m\u001b[0m\u001b[0m\n\u001b[0m\u001b[1;32m      6\u001b[0m \u001b[0mprint\u001b[0m\u001b[0;34m(\u001b[0m\u001b[0;34m\"\"\u001b[0m\u001b[0;34m)\u001b[0m\u001b[0;34m\u001b[0m\u001b[0;34m\u001b[0m\u001b[0m\n\u001b[1;32m      7\u001b[0m \u001b[0mprint\u001b[0m\u001b[0;34m(\u001b[0m\u001b[0;34m\"Beginning \"\u001b[0m \u001b[0;34m+\u001b[0m \u001b[0mcategory\u001b[0m \u001b[0;34m+\u001b[0m \u001b[0;34m\" Trivia game. Please type 'quit' to exit at any time.\"\u001b[0m\u001b[0;34m)\u001b[0m\u001b[0;34m\u001b[0m\u001b[0;34m\u001b[0m\u001b[0m\n",
      "\u001b[0;32m/anaconda3/lib/python3.7/site-packages/ipykernel/kernelbase.py\u001b[0m in \u001b[0;36mraw_input\u001b[0;34m(self, prompt)\u001b[0m\n\u001b[1;32m    851\u001b[0m             \u001b[0mself\u001b[0m\u001b[0;34m.\u001b[0m\u001b[0m_parent_ident\u001b[0m\u001b[0;34m,\u001b[0m\u001b[0;34m\u001b[0m\u001b[0;34m\u001b[0m\u001b[0m\n\u001b[1;32m    852\u001b[0m             \u001b[0mself\u001b[0m\u001b[0;34m.\u001b[0m\u001b[0m_parent_header\u001b[0m\u001b[0;34m,\u001b[0m\u001b[0;34m\u001b[0m\u001b[0;34m\u001b[0m\u001b[0m\n\u001b[0;32m--> 853\u001b[0;31m             \u001b[0mpassword\u001b[0m\u001b[0;34m=\u001b[0m\u001b[0;32mFalse\u001b[0m\u001b[0;34m,\u001b[0m\u001b[0;34m\u001b[0m\u001b[0;34m\u001b[0m\u001b[0m\n\u001b[0m\u001b[1;32m    854\u001b[0m         )\n\u001b[1;32m    855\u001b[0m \u001b[0;34m\u001b[0m\u001b[0m\n",
      "\u001b[0;32m/anaconda3/lib/python3.7/site-packages/ipykernel/kernelbase.py\u001b[0m in \u001b[0;36m_input_request\u001b[0;34m(self, prompt, ident, parent, password)\u001b[0m\n\u001b[1;32m    881\u001b[0m             \u001b[0;32mexcept\u001b[0m \u001b[0mKeyboardInterrupt\u001b[0m\u001b[0;34m:\u001b[0m\u001b[0;34m\u001b[0m\u001b[0;34m\u001b[0m\u001b[0m\n\u001b[1;32m    882\u001b[0m                 \u001b[0;31m# re-raise KeyboardInterrupt, to truncate traceback\u001b[0m\u001b[0;34m\u001b[0m\u001b[0;34m\u001b[0m\u001b[0;34m\u001b[0m\u001b[0m\n\u001b[0;32m--> 883\u001b[0;31m                 \u001b[0;32mraise\u001b[0m \u001b[0mKeyboardInterrupt\u001b[0m\u001b[0;34m\u001b[0m\u001b[0;34m\u001b[0m\u001b[0m\n\u001b[0m\u001b[1;32m    884\u001b[0m             \u001b[0;32melse\u001b[0m\u001b[0;34m:\u001b[0m\u001b[0;34m\u001b[0m\u001b[0;34m\u001b[0m\u001b[0m\n\u001b[1;32m    885\u001b[0m                 \u001b[0;32mbreak\u001b[0m\u001b[0;34m\u001b[0m\u001b[0;34m\u001b[0m\u001b[0m\n",
      "\u001b[0;31mKeyboardInterrupt\u001b[0m: "
     ]
    }
   ],
   "source": [
    "deleteTable()\n",
    "createTable()\n",
    "fillTable()\n",
    "\n",
    "category = input(\"Do you want to play Trivia with Pokemon, Animals, or Sports? \").lower()\n",
    "print(\"\")\n",
    "print(\"Beginning \" + category + \" Trivia game. Please type 'quit' to exit at any time.\")\n",
    "questions = getQuestions(category)\n",
    "numQuestions = len(questions)\n",
    "score = 0\n",
    "while True:\n",
    "    if len(questions) == 0:\n",
    "        print(\"That's all! Thanks for playing!\")\n",
    "        print(\"Your score for \" + category + \" was: \" + str(score) + \" out of \" + str(numQuestions))\n",
    "        break\n",
    "    selected = random.choice(questions)\n",
    "    question = selected[1]\n",
    "    correct_answer = str(selected[2])\n",
    "    questions.remove(selected)\n",
    "    user_answer = input(question + \" \")\n",
    "    user_answer = user_answer.lower()\n",
    "    if user_answer == 'quit':\n",
    "        print(\"Exiting game...\")\n",
    "        print(\"Your score for \" + category + \" was: \" + str(score) + \" out of \" + str(numQuestions))\n",
    "        break\n",
    "    elif user_answer in correct_answer:\n",
    "        print(\"Correct!\")\n",
    "        score += 1\n",
    "    else:\n",
    "        print(\"Incorrect!\")\n",
    "    print(\"Your score:\",score)\n",
    "    print(\"\")"
   ]
  },
  {
   "cell_type": "code",
   "execution_count": null,
   "metadata": {},
   "outputs": [],
   "source": []
  }
 ],
 "metadata": {
  "kernelspec": {
   "display_name": "Python 3",
   "language": "python",
   "name": "python3"
  },
  "language_info": {
   "codemirror_mode": {
    "name": "ipython",
    "version": 3
   },
   "file_extension": ".py",
   "mimetype": "text/x-python",
   "name": "python",
   "nbconvert_exporter": "python",
   "pygments_lexer": "ipython3",
   "version": "3.7.3"
  }
 },
 "nbformat": 4,
 "nbformat_minor": 2
}
