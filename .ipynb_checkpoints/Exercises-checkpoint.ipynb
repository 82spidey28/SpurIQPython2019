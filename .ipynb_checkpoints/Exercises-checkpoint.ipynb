{
 "cells": [
  {
   "cell_type": "markdown",
   "metadata": {},
   "source": [
    "# These are my Python Exercises"
   ]
  },
  {
   "cell_type": "code",
   "execution_count": 3,
   "metadata": {},
   "outputs": [
    {
     "name": "stdout",
     "output_type": "stream",
     "text": [
      "HelloWorld\n"
     ]
    }
   ],
   "source": [
    "print(\"HelloWorld\")"
   ]
  },
  {
   "cell_type": "code",
   "execution_count": 10,
   "metadata": {},
   "outputs": [
    {
     "name": "stdout",
     "output_type": "stream",
     "text": [
      "80\n"
     ]
    }
   ],
   "source": [
    "x = 20\n",
    "y = 4\n",
    "\n",
    "print (x*y)"
   ]
  },
  {
   "cell_type": "code",
   "execution_count": 11,
   "metadata": {},
   "outputs": [
    {
     "name": "stdout",
     "output_type": "stream",
     "text": [
      "80\n"
     ]
    }
   ],
   "source": [
    "print (20*4)"
   ]
  },
  {
   "cell_type": "code",
   "execution_count": 12,
   "metadata": {},
   "outputs": [
    {
     "name": "stdout",
     "output_type": "stream",
     "text": [
      "80\n"
     ]
    }
   ],
   "source": [
    "x = 20\n",
    "y = 4\n",
    "y *=x\n",
    "print(y)"
   ]
  },
  {
   "cell_type": "code",
   "execution_count": 28,
   "metadata": {},
   "outputs": [
    {
     "name": "stdout",
     "output_type": "stream",
     "text": [
      "a is greater than b\n"
     ]
    }
   ],
   "source": [
    "a = 100\n",
    "b = 20\n",
    "if b > a:\n",
    "    print(\"b is greater than a\")\n",
    "elif a == b:\n",
    "    print(\"a and b are equal\")\n",
    "else:\n",
    "    print(\"a is greater than b\")"
   ]
  },
  {
   "cell_type": "code",
   "execution_count": 29,
   "metadata": {},
   "outputs": [
    {
     "name": "stdout",
     "output_type": "stream",
     "text": [
      "I've mastered decision making\n"
     ]
    }
   ],
   "source": [
    "a = 100\n",
    "b = 50\n",
    "if a > b:\n",
    "    print(\"I've mastered decision making\")"
   ]
  },
  {
   "cell_type": "code",
   "execution_count": 30,
   "metadata": {},
   "outputs": [
    {
     "name": "stdout",
     "output_type": "stream",
     "text": [
      "Hello Class!\n"
     ]
    }
   ],
   "source": [
    "a = \"Hello World!\"\n",
    "print(a.replace(\"World\", \"Class\"))"
   ]
  },
  {
   "cell_type": "code",
   "execution_count": 32,
   "metadata": {},
   "outputs": [
    {
     "name": "stdout",
     "output_type": "stream",
     "text": [
      "['Hello', ' World!']\n"
     ]
    }
   ],
   "source": [
    "a = \"Hello, World!\"\n",
    "print(a.split(\",\"))"
   ]
  },
  {
   "cell_type": "code",
   "execution_count": 49,
   "metadata": {},
   "outputs": [
    {
     "name": "stdout",
     "output_type": "stream",
     "text": [
      "['Pikachu', 'Lycanroc', 'Lucario']\n",
      "['Pikachu', 'Typhlosion', 'Lucario']\n",
      "Yes, 'Pikachu' is in the Pokemon list\n"
     ]
    }
   ],
   "source": [
    "thislist = [\"Pikachu\", \"Lycanroc\", \"Lucario\"]\n",
    "print(thislist)\n",
    "thislist[1] = \"Typhlosion\"\n",
    "print(thislist)\n",
    "if \"Pikachu\" in thislist:\n",
    "    print(\"Yes, 'Pikachu' is in the Pokemon list\")"
   ]
  },
  {
   "cell_type": "code",
   "execution_count": 40,
   "metadata": {},
   "outputs": [
    {
     "name": "stdout",
     "output_type": "stream",
     "text": [
      "('Pikachu', 'Lycanroc', 'Lucario')\n",
      "Lycanroc\n",
      "Pikachu is an electric type\n",
      "3\n"
     ]
    }
   ],
   "source": [
    "thistuple = (\"Pikachu\", \"Lycanroc\", \"Lucario\")\n",
    "print(thistuple)\n",
    "x = thistuple[1] \n",
    "print(x)\n",
    "if \"Pikachu\" in thistuple:\n",
    "    print(\"Pikachu is an electric type\")\n",
    "    y = len(thistuple)\n",
    "print(y)"
   ]
  },
  {
   "cell_type": "code",
   "execution_count": 45,
   "metadata": {},
   "outputs": [
    {
     "name": "stdout",
     "output_type": "stream",
     "text": [
      "{'Lycanroc', 'Pikachu', 'Lucario'}\n",
      "True\n",
      "{'Lycanroc', 'Pikachu', 'Typhlosion', 'Lucario'}\n",
      "{'Victiny', 'Lycanroc', 'Zecrom', 'Pikachu', 'Reshiram', 'Lucario'}\n",
      "{'Lycanroc', 'Pikachu'}\n"
     ]
    }
   ],
   "source": [
    "thisset = {\"Pikachu\", \"Lycanroc\", \"Lucario\"}\n",
    "print(thisset)\n",
    "print(\"Lycanroc\" in thisset)\n",
    "thisset = {\"Pikachu\", \"Lycanroc\", \"Lucario\"}\n",
    "thisset.add(\"Typhlosion\")\n",
    "print(thisset)\n",
    "thisset = {\"Pikachu\", \"Lycanroc\", \"Lucario\"}\n",
    "thisset.update([\"Reshiram\", \"Zecrom\", \"Victiny\"])\n",
    "print(thisset)\n",
    "thisset = {\"Pikachu\", \"Lycanroc\", \"Lucario\"}\n",
    "thisset.remove(\"Lucario\")\n",
    "print(thisset)"
   ]
  },
  {
   "cell_type": "code",
   "execution_count": 50,
   "metadata": {},
   "outputs": [
    {
     "name": "stdout",
     "output_type": "stream",
     "text": [
      "{'Pokemon': 'Picachu', 'Type': 'Electric', 'Region': 'Kanto'}\n",
      "Electric\n",
      "{'Pokemon': 'Picachu', 'Type': 'Electric', 'Region': 'Kanto', 'Color': 'Yellow'}\n"
     ]
    }
   ],
   "source": [
    "thisdict = {\n",
    "    \"Pokemon\": \"Picachu\",\n",
    "    \"Type\": \"Electric\",\n",
    "    \"Region\": \"Kanto\"\n",
    "}\n",
    "print(thisdict)\n",
    "x = thisdict[\"Type\"]\n",
    "print(x)\n",
    "thisdict[\"Color\"] = \"Yellow\"\n",
    "print(thisdict)"
   ]
  }
 ],
 "metadata": {
  "kernelspec": {
   "display_name": "Python 3",
   "language": "python",
   "name": "python3"
  },
  "language_info": {
   "codemirror_mode": {
    "name": "ipython",
    "version": 3
   },
   "file_extension": ".py",
   "mimetype": "text/x-python",
   "name": "python",
   "nbconvert_exporter": "python",
   "pygments_lexer": "ipython3",
   "version": "3.7.3"
  }
 },
 "nbformat": 4,
 "nbformat_minor": 2
}
