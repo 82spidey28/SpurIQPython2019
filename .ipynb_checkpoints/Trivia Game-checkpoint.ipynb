{
 "cells": [
  {
   "cell_type": "markdown",
   "metadata": {},
   "source": [
    "# SQL Database"
   ]
  },
  {
   "cell_type": "markdown",
   "metadata": {},
   "source": [
    "## Setup"
   ]
  },
  {
   "cell_type": "code",
   "execution_count": 28,
   "metadata": {},
   "outputs": [],
   "source": [
    "import sqlite3\n",
    "import ipywidgets as widgets\n",
    "import random"
   ]
  },
  {
   "cell_type": "markdown",
   "metadata": {},
   "source": [
    "## SQL Functions"
   ]
  },
  {
   "cell_type": "code",
   "execution_count": 29,
   "metadata": {},
   "outputs": [],
   "source": [
    "def create():\n",
    "    mydb = sqlite3.connect(\"TriviaGame.db\")\n",
    "    mycursor = mydb.cursor()\n",
    "    mycursor.execute(\"CREATE TABLE TriviaQs (id INTEGER PRIMARY KEY, Question VARCHAR(255), Answer VARCHAR(255), Category VARCHAR(255))\")\n",
    "    mydb.close()\n",
    "\n",
    "def insert(questions):\n",
    "    mydb = sqlite3.connect(\"TriviaGame.db\")\n",
    "    mycursor = mydb.cursor()\n",
    "    sql = \"INSERT INTO TriviaQs (Question, Answer, Category) VALUES (?, ?, ?)\"\n",
    "    val = questions\n",
    "    mycursor.executemany(sql, val)\n",
    "    mydb.commit()\n",
    "    mydb.close()\n",
    "    \n",
    "def pullAll():\n",
    "    mydb = sqlite3.connect(\"TriviaGame.db\")\n",
    "    mycursor = mydb.cursor()\n",
    "    sql = \"SELECT * FROM TriviaQs\"\n",
    "    mycursor.execute(sql)\n",
    "    tableData = mycursor.fetchall()\n",
    "    for x in tableData:\n",
    "      print(x)\n",
    "    mydb.close()\n",
    "\n",
    "def delete():\n",
    "    mydb = sqlite3.connect(\"TriviaGame.db\")\n",
    "    mycursor = mydb.cursor()\n",
    "    mycursor.execute(\"DROP TABLE IF EXISTS TriviaQs\")\n",
    "    mydb.close()"
   ]
  },
  {
   "cell_type": "markdown",
   "metadata": {},
   "source": [
    "## Trivia Questions"
   ]
  },
  {
   "cell_type": "code",
   "execution_count": 30,
   "metadata": {},
   "outputs": [],
   "source": [
    "questions = [\n",
    "(\"What is Earth's largest continent?\",\"['asia']\",\"Geography\"),\n",
    "(\"The Taj Mahal is located in which Indian city?\",\"['agra']\",\"Geography\"),\n",
    "(\"Which river is the longest in the world?\",\"['the nile river','the nile','nile','nile river']\",\"Geography\"),\n",
    "(\"In which U.S. state is Death Valley?\",\"['california']\",\"Geography\"),\n",
    "(\"What is the national emblem of Canada?\",\"['the maple leaf','maple leaf']\",\"Geography\"),\n",
    "(\"Which is the least populated U.S. state?\",\"['wyoming']\",\"Geography\"),\n",
    "(\"What is the highest mountain range that lies exclusively in Europe?\",\"['the alps','alps']\",\"Geography\"),\n",
    "(\"What is the smallest state in the U.S.?\",\"['rhode island']\",\"Geography\"),\n",
    "(\"Which state is Crater Lake located in?\",\"['oregon']\",\"Geography\"),\n",
    "(\"What is the northernmost, westernmost, and easternmost state?\",\"['alaska']\",\"Geography\"),\n",
    "(\"What is the next prime number after 7?\",\"['11','eleven']\",\"Math\"),\n",
    "(\"Opposite angles of a parallelogram are _____.\",\"['equal','the same']\",\"Math\"),\n",
    "(\"Any number to the power of 0 equals ___.\",\"['1','one']\",\"Math\"),\n",
    "(\"What is a straight line that touches a circle at a single point?\",\"['tangent']\",\"Math\"),\n",
    "(\"What is the greatest common factor of 24, 40, and 60?\",\"['4','four']\",\"Math\"),\n",
    "(\"A car travels at a speed of 65mph. How many miles will it travel in one hour?\",\"['65', 'sixtyfive','sixty-five','sixty five']\",\"Math\"),\n",
    "(\"The symbol i represents the square root of ___.\",\"['-1','negative one']\",\"Math\"),\n",
    "(\"What is the smallest prime number?\",\"['2','two']\",\"Math\"),\n",
    "(\"An angle that is less than 90 degrees is called _____.\",\"['acute']\",\"Math\"),\n",
    "(\"Pi is a famous ________ number.\",\"['irrational']\",\"Math\"),\n",
    "(\"\",\"\",\"Movies\"),\n",
    "(\"\",\"\",\"Movies\"),\n",
    "(\"\",\"\",\"Movies\"),\n",
    "(\"\",\"\",\"Movies\"),\n",
    "(\"\",\"\",\"Movies\"),\n",
    "(\"\",\"\",\"Movies\"),\n",
    "(\"\",\"\",\"Movies\"),\n",
    "(\"\",\"\",\"Movies\"),\n",
    "(\"\",\"\",\"Movies\"),\n",
    "(\"\",\"\",\"Movies\"),\n",
    "(\"Which element's symbol is 'O'?\",\"['oxygen']\",\"Science\"),\n",
    "(\"Who developed the special theory of relativity\",\"['albert einstein','einstein']\",\"Science\"),\n",
    "(\"How many hydrogen atoms are in one molecule of water?\",\"['2','two']\",\"Science\"),\n",
    "(\"Which planet in our solar system is closest to the sun?\",\"['mercury']\",\"Science\"),\n",
    "(\"What is the most abundant gas in the earth's atmosphere?\",\"['nitrogen']\",\"Science\"),\n",
    "(\"What is the chemical symbol for potassium?\",\"['k']\",\"Science\"),\n",
    "(\"Diamonds are mostly composed of which element?\",\"['carbon']\",\"Science\"),\n",
    "(\"What is the product of a body's mass and its linear velocity?\",\"['momentum']\",\"Science\"),\n",
    "(\"Where does sound travel faster: water or air?\",\"['water']\",\"Science\"),\n",
    "(\"How many hearts does an Octopus have?\",\"['3','three']\",\"Science\"),\n",
    "(\"\",\"\",\"Sports\"),\n",
    "(\"\",\"\",\"Sports\"),\n",
    "(\"\",\"\",\"Sports\"),\n",
    "(\"\",\"\",\"Sports\"),\n",
    "(\"\",\"\",\"Sports\"),\n",
    "(\"\",\"\",\"Sports\"),\n",
    "(\"\",\"\",\"Sports\"),\n",
    "(\"\",\"\",\"Sports\"),\n",
    "(\"\",\"\",\"Sports\"),\n",
    "(\"\",\"\",\"Sports\"),\n",
    "]"
   ]
  },
  {
   "cell_type": "markdown",
   "metadata": {},
   "source": [
    "## Game Functions"
   ]
  },
  {
   "cell_type": "code",
   "execution_count": 40,
   "metadata": {},
   "outputs": [
    {
     "ename": "IndentationError",
     "evalue": "expected an indented block (<ipython-input-40-4f1eeccca26a>, line 3)",
     "output_type": "error",
     "traceback": [
      "\u001b[0;36m  File \u001b[0;32m\"<ipython-input-40-4f1eeccca26a>\"\u001b[0;36m, line \u001b[0;32m3\u001b[0m\n\u001b[0;31m    def runGame(b):\u001b[0m\n\u001b[0m      ^\u001b[0m\n\u001b[0;31mIndentationError\u001b[0m\u001b[0;31m:\u001b[0m expected an indented block\n"
     ]
    }
   ],
   "source": [
    "def getQ(b,askedQs):\n",
    "\n",
    "def runGame(b):\n",
    "    intro.close()\n",
    "    geo.close()\n",
    "    math.close()\n",
    "    mov.close()\n",
    "    sci.close()\n",
    "    spo.close()\n",
    "    askedQs = []\n",
    "    while True:\n",
    "            \n",
    "    getQ(b)\n",
    "    mydb = sqlite3.connect(\"TriviaGame.db\")\n",
    "    mycursor = mydb.cursor()\n",
    "    sql = \"SELECT * FROM TriviaQs WHERE Category = ?\"\n",
    "    val = [b.description,]\n",
    "    mycursor.execute(sql,val)\n",
    "    allQs = mycursor.fetchall()\n",
    "    while True:\n",
    "        selection = random.choice(allQs)\n",
    "        print(selection)\n",
    "        if selection[0] not in askedQs:\n",
    "            break\n",
    "    i = selection[0]\n",
    "    q = selection[1]\n",
    "    a = list(selection[2])\n",
    "    return i,q,a\n",
    "    \n",
    "    "
   ]
  },
  {
   "cell_type": "code",
   "execution_count": 41,
   "metadata": {},
   "outputs": [
    {
     "data": {
      "application/vnd.jupyter.widget-view+json": {
       "model_id": "00813e8916b84e2fa227f7b01cc5494b",
       "version_major": 2,
       "version_minor": 0
      },
      "text/plain": [
       "Label(value='Please choose a game category:')"
      ]
     },
     "metadata": {},
     "output_type": "display_data"
    },
    {
     "data": {
      "application/vnd.jupyter.widget-view+json": {
       "model_id": "68a292fbc4b142d89a49ab95551e9e5c",
       "version_major": 2,
       "version_minor": 0
      },
      "text/plain": [
       "HBox(children=(Button(description='Geography', style=ButtonStyle()), Button(description='Math', style=ButtonSt…"
      ]
     },
     "metadata": {},
     "output_type": "display_data"
    },
    {
     "ename": "NameError",
     "evalue": "name 'runGame' is not defined",
     "output_type": "error",
     "traceback": [
      "\u001b[0;31m---------------------------------------------------------------------------\u001b[0m",
      "\u001b[0;31mNameError\u001b[0m                                 Traceback (most recent call last)",
      "\u001b[0;32m<ipython-input-41-455d43605204>\u001b[0m in \u001b[0;36m<module>\u001b[0;34m\u001b[0m\n\u001b[1;32m     27\u001b[0m \u001b[0minp\u001b[0m\u001b[0;34m.\u001b[0m\u001b[0mclose\u001b[0m\u001b[0;34m(\u001b[0m\u001b[0;34m)\u001b[0m\u001b[0;34m\u001b[0m\u001b[0;34m\u001b[0m\u001b[0m\n\u001b[1;32m     28\u001b[0m \u001b[0;34m\u001b[0m\u001b[0m\n\u001b[0;32m---> 29\u001b[0;31m \u001b[0mgeo\u001b[0m\u001b[0;34m.\u001b[0m\u001b[0mon_click\u001b[0m\u001b[0;34m(\u001b[0m\u001b[0mrunGame\u001b[0m\u001b[0;34m)\u001b[0m\u001b[0;34m\u001b[0m\u001b[0;34m\u001b[0m\u001b[0m\n\u001b[0m\u001b[1;32m     30\u001b[0m \u001b[0mmath\u001b[0m\u001b[0;34m.\u001b[0m\u001b[0mon_click\u001b[0m\u001b[0;34m(\u001b[0m\u001b[0mrunGame\u001b[0m\u001b[0;34m)\u001b[0m\u001b[0;34m\u001b[0m\u001b[0;34m\u001b[0m\u001b[0m\n\u001b[1;32m     31\u001b[0m \u001b[0mmov\u001b[0m\u001b[0;34m.\u001b[0m\u001b[0mon_click\u001b[0m\u001b[0;34m(\u001b[0m\u001b[0mrunGame\u001b[0m\u001b[0;34m)\u001b[0m\u001b[0;34m\u001b[0m\u001b[0;34m\u001b[0m\u001b[0m\n",
      "\u001b[0;31mNameError\u001b[0m: name 'runGame' is not defined"
     ]
    }
   ],
   "source": [
    "delete()\n",
    "create()\n",
    "insert(questions)\n",
    "\n",
    "categories = ['Geography','Math','Movies','Science','Sports']\n",
    "askedQs = []\n",
    "\n",
    "# Add Intro Label\n",
    "intro = widgets.Label(value='Please choose a game category:')\n",
    "display(intro)\n",
    "\n",
    "# Add Widget Buttons\n",
    "geo = widgets.Button(description=categories[0])\n",
    "math = widgets.Button(description=categories[1])\n",
    "mov = widgets.Button(description=categories[2])\n",
    "sci = widgets.Button(description=categories[3])\n",
    "spo = widgets.Button(description=categories[4])\n",
    "buttons = widgets.HBox([geo,math,mov,sci,spo])\n",
    "display(buttons)\n",
    "\n",
    "# Add Question Widget\n",
    "que = widgets.Label()\n",
    "que.close()\n",
    "\n",
    "# Add Input Widget\n",
    "inp = widgets.Text(placeholder='Type answer here...',description='Answer:')\n",
    "inp.close()\n",
    "\n",
    "geo.on_click(runGame)\n",
    "math.on_click(runGame)\n",
    "mov.on_click(runGame)\n",
    "sci.on_click(runGame)\n",
    "spo.on_click(runGame)"
   ]
  },
  {
   "cell_type": "code",
   "execution_count": null,
   "metadata": {},
   "outputs": [],
   "source": []
  },
  {
   "cell_type": "code",
   "execution_count": null,
   "metadata": {},
   "outputs": [],
   "source": []
  }
 ],
 "metadata": {
  "kernelspec": {
   "display_name": "Python 3",
   "language": "python",
   "name": "python3"
  },
  "language_info": {
   "codemirror_mode": {
    "name": "ipython",
    "version": 3
   },
   "file_extension": ".py",
   "mimetype": "text/x-python",
   "name": "python",
   "nbconvert_exporter": "python",
   "pygments_lexer": "ipython3",
   "version": "3.7.3"
  }
 },
 "nbformat": 4,
 "nbformat_minor": 2
}
