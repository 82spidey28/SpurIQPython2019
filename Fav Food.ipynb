{
 "cells": [
  {
   "cell_type": "markdown",
   "metadata": {},
   "source": [
    "# Food"
   ]
  },
  {
   "cell_type": "code",
   "execution_count": 5,
   "metadata": {},
   "outputs": [],
   "source": [
    "import sqlite3"
   ]
  },
  {
   "cell_type": "code",
   "execution_count": 6,
   "metadata": {},
   "outputs": [],
   "source": [
    "mydb = sqlite3.connect(\"mydatabase.db\")\n",
    "mydb.close()"
   ]
  },
  {
   "cell_type": "code",
   "execution_count": 8,
   "metadata": {},
   "outputs": [],
   "source": [
    "def createTable():\n",
    "    mydb = sqlite3.connect(\"mydatabase.db\")\n",
    "    mycursor = mydb.cursor()\n",
    "    mycursor.execute(\"CREATE TABLE FavFood (id INTEGER PRIMARY KEY, Pokemon VARCHAR(255), PokemonFavFood VARCHAR(255))\")\n",
    "    mydb.close()"
   ]
  },
  {
   "cell_type": "code",
   "execution_count": 9,
   "metadata": {},
   "outputs": [],
   "source": [
    "def fillTable():   \n",
    "    mydb = sqlite3.connect(\"mydatabase.db\")\n",
    "    mycursor = mydb.cursor()\n",
    "    sql = \"INSERT INTO FavFood (Pokemon, PokemonFavFood ) VALUES (?, ?)\"\n",
    "    val = [\n",
    "    ('Pikachu', 'Apples'),\n",
    "    ('Steenie', 'Mango Juice'),\n",
    "    ('Togedemaru', 'Berries'),\n",
    "    ('Popplio', 'Small fish'),\n",
    "    ('Turtonator', 'Macarons'),\n",
    "    ('Vulpix', 'Macarons'),\n",
    "    ]\n",
    "    mycursor.executemany(sql, val)\n",
    "    print(mycursor.rowcount)        \n",
    "    mydb.commit()\n",
    "    mydb.close()"
   ]
  },
  {
   "cell_type": "code",
   "execution_count": 10,
   "metadata": {},
   "outputs": [],
   "source": [
    "def viewTable(): \n",
    "    mydb = sqlite3.connect(\"mydatabase.db\")\n",
    "    mycursor = mydb.cursor()\n",
    "    sql = \"SELECT * FROM FavFood\"\n",
    "    mycursor.execute(sql)\n",
    "    tableData = mycursor.fetchall()\n",
    "    for x in tableData:\n",
    "      print(x)\n",
    "    mydb.commit()\n",
    "    mydb.close()"
   ]
  },
  {
   "cell_type": "code",
   "execution_count": 11,
   "metadata": {},
   "outputs": [],
   "source": [
    "def deleteTable():   \n",
    "    mydb = sqlite3.connect(\"mydatabase.db\")\n",
    "    mycursor = mydb.cursor()\n",
    "    sql = \"DROP TABLE IF EXISTS FavFood\"\n",
    "    mycursor.execute(sql)\n",
    "    mydb.close()"
   ]
  },
  {
   "cell_type": "code",
   "execution_count": 12,
   "metadata": {},
   "outputs": [
    {
     "name": "stdout",
     "output_type": "stream",
     "text": [
      "6\n",
      "(1, 'Pikachu', 'Apples')\n",
      "(2, 'Steenie', 'Mango Juice')\n",
      "(3, 'Togedemaru', 'Berries')\n",
      "(4, 'Popplio', 'Small fish')\n",
      "(5, 'Turtonator', 'Macarons')\n",
      "(6, 'Vulpix', 'Macarons')\n"
     ]
    }
   ],
   "source": [
    "deleteTable()\n",
    "createTable()\n",
    "fillTable()\n",
    "viewTable()"
   ]
  },
  {
   "cell_type": "code",
   "execution_count": null,
   "metadata": {},
   "outputs": [],
   "source": []
  },
  {
   "cell_type": "code",
   "execution_count": null,
   "metadata": {},
   "outputs": [],
   "source": []
  }
 ],
 "metadata": {
  "kernelspec": {
   "display_name": "Python 3",
   "language": "python",
   "name": "python3"
  },
  "language_info": {
   "codemirror_mode": {
    "name": "ipython",
    "version": 3
   },
   "file_extension": ".py",
   "mimetype": "text/x-python",
   "name": "python",
   "nbconvert_exporter": "python",
   "pygments_lexer": "ipython3",
   "version": "3.7.3"
  }
 },
 "nbformat": 4,
 "nbformat_minor": 2
}
