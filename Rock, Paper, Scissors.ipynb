{
 "cells": [
  {
   "cell_type": "markdown",
   "metadata": {},
   "source": [
    "# Rock, Paper, Scissors"
   ]
  },
  {
   "cell_type": "code",
   "execution_count": null,
   "metadata": {
    "scrolled": true
   },
   "outputs": [
    {
     "name": "stdout",
     "output_type": "stream",
     "text": [
      "Your move:  \t\tr\n",
      "You:\t\t\t r\n",
      "Computer:\t\t s\n",
      "You win :)\n",
      "Your score:\t\t 1\n",
      "Computer score:\t\t 0\n",
      "\n",
      "\n"
     ]
    }
   ],
   "source": [
    "import random\n",
    "moves = ['r', 'p', 's']\n",
    "player_wins = ['pr', 'sp', 'rs']\n",
    "player_score = 0\n",
    "computer_score = 0\n",
    "while True:\n",
    "    player_move = input(\"Your move:  \\t\\t\")\n",
    "    if player_move == 'q':\n",
    "        print(\"Your final score:\\t\", player_score)\n",
    "        print(\"Computer final score:\\t\", computer_score)\n",
    "        if player_score == computer_score:\n",
    "            print(\"This game is a tie!\")\n",
    "        elif player_score > computer_score:\n",
    "            print(\"You won this game! :)\")\n",
    "        else:\n",
    "            print(\"You lost this game! :(\")\n",
    "        break\n",
    "    computer_move = random.choice(moves)\n",
    "    print(\"You:\\t\\t\\t\", player_move)\n",
    "    print(\"Computer:\\t\\t\", computer_move)\n",
    "    if player_move == computer_move:\n",
    "        print(\"Tie\")\n",
    "    elif player_move + computer_move in player_wins:\n",
    "        print(\"You win :)\")\n",
    "        player_score += 1\n",
    "    else:\n",
    "        print(\"You suck! HAHAHAHAHAHA! :(\")\n",
    "        computer_score += 1\n",
    "    print(\"Your score:\\t\\t\", player_score)\n",
    "    print(\"Computer score:\\t\\t\", computer_score)\n",
    "    print(\"\\n\")\n",
    "    "
   ]
  },
  {
   "cell_type": "code",
   "execution_count": null,
   "metadata": {},
   "outputs": [],
   "source": []
  }
 ],
 "metadata": {
  "kernelspec": {
   "display_name": "Python 3",
   "language": "python",
   "name": "python3"
  },
  "language_info": {
   "codemirror_mode": {
    "name": "ipython",
    "version": 3
   },
   "file_extension": ".py",
   "mimetype": "text/x-python",
   "name": "python",
   "nbconvert_exporter": "python",
   "pygments_lexer": "ipython3",
   "version": "3.7.3"
  }
 },
 "nbformat": 4,
 "nbformat_minor": 2
}
